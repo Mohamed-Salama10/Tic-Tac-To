{
 "cells": [
  {
   "cell_type": "markdown",
   "metadata": {},
   "source": [
    "# Milestone Project 1: Walkthrough Steps Workbook\n",
    "\n",
    "Below is a set of steps for you to follow to try to create the Tic Tac Toe Milestone Project game!"
   ]
  },
  {
   "cell_type": "markdown",
   "metadata": {},
   "source": [
    "#### Some suggested tools before you get started:\n",
    "To take input from a user:\n",
    "\n",
    "    player1 = input(\"Please pick a marker 'X' or 'O'\")\n",
    "    \n",
    "Note that input() takes in a string. If you need an integer value, use\n",
    "\n",
    "    position = int(input('Please enter a number'))\n",
    "    \n",
    "<br>To clear the screen between moves:\n",
    "\n",
    "    from IPython.display import clear_output\n",
    "    clear_output()\n",
    "    \n",
    "Note that clear_output() will only work in jupyter. To clear the screen in other IDEs, consider:\n",
    "\n",
    "    print('\\n'*100)\n",
    "    \n",
    "This scrolls the previous board up out of view. Now on to the program!"
   ]
  },
  {
   "cell_type": "markdown",
   "metadata": {},
   "source": [
    "**Step 1: Write a function that can print out a board. Set up your board as a list, where each index 1-9 corresponds with a number on a number pad, so you get a 3 by 3 board representation.**"
   ]
  },
  {
   "cell_type": "code",
   "execution_count": null,
   "metadata": {},
   "outputs": [],
   "source": [
    "from IPython.display import clear_output\n",
    "\n",
    "def display_board(board):\n",
    "    clear_output\n",
    "    print(board[6] + '|' + board[7] + '|' + board[8])\n",
    "    print(board[3] + '|' + board[4] + '|' + board[5])\n",
    "    print(board[0] + '|' + board[1] + '|' + board[2])\n",
    "    pass"
   ]
  },
  {
   "cell_type": "markdown",
   "metadata": {},
   "source": [
    "**Step 2: Write a function that can take in a player input and assign their marker as 'X' or 'O'. Think about using *while* loops to continually ask until you get a correct answer.**"
   ]
  },
  {
   "cell_type": "code",
   "execution_count": null,
   "metadata": {},
   "outputs": [],
   "source": [
    "def player_input():\n",
    "    while True:\n",
    "        mark = input(\"Please select X or O : \")\n",
    "        if mark.lower() == \"x\" or mark.lower() == \"o\":\n",
    "            return mark\n",
    "        else: \n",
    "            print(\" Invalid input please selec X or O\")\n",
    "            continue\n",
    "    \n",
    "    pass"
   ]
  },
  {
   "cell_type": "markdown",
   "metadata": {},
   "source": [
    "**Step 3: Write a function that takes in the board list object, a marker ('X' or 'O'), and a desired position (number 1-9) and assigns it to the board.**"
   ]
  },
  {
   "cell_type": "code",
   "execution_count": null,
   "metadata": {},
   "outputs": [],
   "source": [
    "def place_marker(board, marker, position):\n",
    "    board[position] = marker\n",
    "    \n",
    "    pass"
   ]
  },
  {
   "cell_type": "markdown",
   "metadata": {},
   "source": [
    "**Step 4: Write a function that takes in a board and a mark (X or O) and then checks to see if that mark has won. **"
   ]
  },
  {
   "cell_type": "code",
   "execution_count": null,
   "metadata": {},
   "outputs": [],
   "source": [
    "def win_check(board, mark):\n",
    "    if board[0] == mark and board[1] == mark and board[2] == mark : return True\n",
    "    elif board[3] == mark and board[4] == mark and board[5] == mark : return True\n",
    "    elif board[6] == mark and board[7] == mark and board[8] == mark : return True\n",
    "    elif board[0] == mark and board[3] == mark and board[6] == mark : return True\n",
    "    elif board[1] == mark and board[4] == mark and board[7] == mark : return True\n",
    "    elif board[2] == mark and board[5] == mark and board[8] == mark : return True\n",
    "    elif board[0] == mark and board[4] == mark and board[8] == mark : return True\n",
    "    elif board[2] == mark and board[4] == mark and board[6] == mark : return True\n",
    "    else: return False\n",
    "       \n",
    "    \n",
    "    pass"
   ]
  },
  {
   "cell_type": "markdown",
   "metadata": {},
   "source": [
    "**Step 5: Write a function that uses the random module to randomly decide which player goes first. You may want to lookup random.randint() Return a string of which player went first.**"
   ]
  },
  {
   "cell_type": "code",
   "execution_count": null,
   "metadata": {},
   "outputs": [],
   "source": [
    "import random\n",
    "\n",
    "def choose_first():\n",
    "    x = random.randint(1 , 2)\n",
    "    if x == 1 :\n",
    "        print(\"player 1 you go first\")\n",
    "    else :\n",
    "        print(\"player 2 you go first\")\n",
    "    \n",
    "    pass"
   ]
  },
  {
   "cell_type": "markdown",
   "metadata": {},
   "source": [
    "**Step 6: Write a function that returns a boolean indicating whether a space on the board is freely available.**"
   ]
  },
  {
   "cell_type": "code",
   "execution_count": null,
   "metadata": {},
   "outputs": [],
   "source": [
    "def space_check(board, position):\n",
    "    if board[position].lower() == \"x\" or board[position].lower()== \"o\":\n",
    "        return False\n",
    "    else : \n",
    "        return True\n",
    "    \n",
    "    pass"
   ]
  },
  {
   "cell_type": "markdown",
   "metadata": {},
   "source": [
    "**Step 7: Write a function that checks if the board is full and returns a boolean value. True if full, False otherwise.**"
   ]
  },
  {
   "cell_type": "code",
   "execution_count": null,
   "metadata": {},
   "outputs": [],
   "source": [
    "def full_board_check(board):\n",
    "    for i in board : \n",
    "        if  board[i] != \"X\" or board[position] != \"O\":\n",
    "            return True \n",
    "            break \n",
    "    return False\n",
    "    \n",
    "    pass"
   ]
  },
  {
   "cell_type": "markdown",
   "metadata": {},
   "source": [
    "**Step 8: Write a function that asks for a player's next position (as a number 1-9) and then uses the function from step 6 to check if it's a free position. If it is, then return the position for later use.**"
   ]
  },
  {
   "cell_type": "code",
   "execution_count": null,
   "metadata": {},
   "outputs": [],
   "source": [
    "def player_choice(board):\n",
    "    while True:\n",
    "        pos = input(\"Please enter your desired postion\")\n",
    "        if space_check(board,pos) == False:\n",
    "            print('invalid choise the postion is taken ')\n",
    "        else:\n",
    "            break\n",
    "    return pos\n",
    "    \n",
    "    pass"
   ]
  },
  {
   "cell_type": "markdown",
   "metadata": {},
   "source": [
    "**Step 9: Write a function that asks the player if they want to play again and returns a boolean True if they do want to play again.**"
   ]
  },
  {
   "cell_type": "code",
   "execution_count": null,
   "metadata": {},
   "outputs": [],
   "source": [
    "def replay():\n",
    "    while True:\n",
    "        ch = input('Do you want to play again y /n')\n",
    "        if ch == 'y':\n",
    "            return True\n",
    "            break\n",
    "        elif ch == 'n' : \n",
    "            return False\n",
    "            break\n",
    "        else:\n",
    "            print(\"Invalid input\")\n",
    "    \n",
    "    pass"
   ]
  },
  {
   "cell_type": "markdown",
   "metadata": {
    "collapsed": true
   },
   "source": [
    "**Step 10:  Use while loops and the functions you've made to run the game**`"
   ]
  },
  {
   "cell_type": "code",
   "execution_count": null,
   "metadata": {},
   "outputs": [],
   "source": [
    "while True:   \n",
    "    print('Welcome to Tic Tac Toe!')\n",
    "    board = [' ']*9\n",
    "    print(\"first player please choose your mark x or o\")\n",
    "    first_player = player_input()\n",
    "    if first_player == 'x':\n",
    "        second_player = 'o'\n",
    "    else:\n",
    "        second_player = 'x'\n",
    "    choose_first()\n",
    "    print (\" Now we can start the game player 1 you are \" + first_player.upper() +\" and player 2 you are \" +second_player.upper())\n",
    "    turn = 1 \n",
    "    while True :\n",
    "        display_board(board)\n",
    "        while True:\n",
    "            pos = input(\"Select postion from 1-9: \")\n",
    "            if pos not in ['1','2','3','4' ,'5' ,'6' ,'7' ,'8' , '9']:\n",
    "                print(\"wrong input\")\n",
    "                continue\n",
    "            pos =int(pos)\n",
    "            break\n",
    "\n",
    "\n",
    "        pos = pos-1\n",
    "        if turn % 2 != 0 :\n",
    "            mark = first_player\n",
    "        if turn%2 == 0:\n",
    "            mark = second_player\n",
    "        if space_check(board , pos) == False :\n",
    "            print(\"invalid postion \")\n",
    "            continue\n",
    "        place_marker(board , mark , pos)\n",
    "\n",
    "        if win_check(board , mark) == True:\n",
    "            print( mark +' is the winner')\n",
    "            display_board(board)\n",
    "            break\n",
    "        \n",
    "        turn+=1\n",
    "        if turn ==10:\n",
    "            print('Tie')\n",
    "            break\n",
    "            \n",
    "    \n",
    "    if replay() == False:\n",
    "        break\n",
    "        \n",
    "\n",
    "\n",
    "\n",
    "\n",
    "\n",
    "\n",
    "\n",
    "\n",
    "\n",
    "\n",
    "\n",
    "\n",
    "\n",
    "\n",
    "\n",
    "\n",
    "\n",
    "\n",
    "\n"
   ]
  },
  {
   "cell_type": "markdown",
   "metadata": {
    "collapsed": true
   },
   "source": [
    "## Good Job!"
   ]
  }
 ],
 "metadata": {
  "kernelspec": {
   "display_name": "Python 3",
   "language": "python",
   "name": "python3"
  },
  "language_info": {
   "codemirror_mode": {
    "name": "ipython",
    "version": 3
   },
   "file_extension": ".py",
   "mimetype": "text/x-python",
   "name": "python",
   "nbconvert_exporter": "python",
   "pygments_lexer": "ipython3",
   "version": "3.7.3"
  }
 },
 "nbformat": 4,
 "nbformat_minor": 1
}
